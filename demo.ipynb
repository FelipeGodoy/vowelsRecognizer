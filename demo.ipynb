{
 "cells": [
  {
   "cell_type": "code",
   "execution_count": 1,
   "metadata": {},
   "outputs": [
    {
     "name": "stdout",
     "output_type": "stream",
     "text": [
      "Populating the interactive namespace from numpy and matplotlib\n"
     ]
    }
   ],
   "source": [
    "%pylab inline"
   ]
  },
  {
   "cell_type": "code",
   "execution_count": 2,
   "metadata": {},
   "outputs": [],
   "source": [
    "import os\n",
    "import librosa\n",
    "import librosa.display\n",
    "import scipy.constants as const\n",
    "import scipy\n",
    "import IPython.display\n",
    "from scipy.io import wavfile\n",
    "from IPython.core.display import HTML\n",
    "from __future__ import division\n",
    "from tensorflow.python.platform import gfile\n",
    "from __future__ import print_function\n",
    "import numpy as np\n",
    "import tensorflow as tf\n",
    "from six.moves import cPickle as pickle\n",
    "from six.moves import range\n",
    "from tensorflow.python.tools import freeze_graph\n",
    "import matplotlib.pyplot as plt"
   ]
  },
  {
   "cell_type": "code",
   "execution_count": 45,
   "metadata": {},
   "outputs": [],
   "source": [
    "PATH_TEST = \"./dataset/test\"\n",
    "PATH_TRAINING = \"./dataset/train\"\n",
    "n_mfcc = 20\n",
    "mfcc_start = 0\n",
    "mfcc_end = 20\n",
    "mfcc_stored = mfcc_end - mfcc_start\n",
    "n_samples = 6\n",
    "\n",
    "def load_vowel(folder, size=4):\n",
    "    wav_files = os.listdir(folder)[0:size]\n",
    "    dataset = np.ndarray(shape=(len(wav_files) * 8, mfcc_stored, n_samples), dtype=np.float32)\n",
    "    num_files = 0\n",
    "    for wav_file in wav_files:\n",
    "        wave, sr = librosa.load(os.path.join(folder, wav_file), mono=True, duration=0.125)\n",
    "        mfccs = librosa.feature.mfcc(y=wave, sr=sr, n_mfcc=n_mfcc)\n",
    "        dataset[num_files,:,:] = mfccs[mfcc_start:mfcc_end, :] / 200\n",
    "        num_files += 1\n",
    "        \n",
    "        wave, sr = librosa.load(os.path.join(folder, wav_file), mono=True, offset=0.125, duration=0.125)\n",
    "        mfccs = librosa.feature.mfcc(y=wave, sr=sr, n_mfcc=n_mfcc)\n",
    "        dataset[num_files,:,:] = mfccs[mfcc_start:mfcc_end, :] / 200\n",
    "        num_files += 1\n",
    "        \n",
    "        wave, sr = librosa.load(os.path.join(folder, wav_file), mono=True, offset=0.25, duration=0.125)\n",
    "        mfccs = librosa.feature.mfcc(y=wave, sr=sr, n_mfcc=n_mfcc)\n",
    "        dataset[num_files,:,:] = mfccs[mfcc_start:mfcc_end, :] / 200\n",
    "        num_files += 1\n",
    "        \n",
    "        wave, sr = librosa.load(os.path.join(folder, wav_file), mono=True, offset=0.375, duration=0.125)\n",
    "        mfccs = librosa.feature.mfcc(y=wave, sr=sr, n_mfcc=n_mfcc)\n",
    "        dataset[num_files,:,:] = mfccs[mfcc_start:mfcc_end, :] / 200\n",
    "        num_files += 1\n",
    "        \n",
    "        wave, sr = librosa.load(os.path.join(folder, wav_file), mono=True, offset=0.5, duration=0.125)\n",
    "        mfccs = librosa.feature.mfcc(y=wave, sr=sr, n_mfcc=n_mfcc)\n",
    "        dataset[num_files,:,:] = mfccs[mfcc_start:mfcc_end, :] / 200\n",
    "        num_files += 1\n",
    "        \n",
    "        wave, sr = librosa.load(os.path.join(folder, wav_file), mono=True, offset=0.625, duration=0.125)\n",
    "        mfccs = librosa.feature.mfcc(y=wave, sr=sr, n_mfcc=n_mfcc)\n",
    "        dataset[num_files,:,:] = mfccs[mfcc_start:mfcc_end, :] / 200\n",
    "        num_files += 1\n",
    "        \n",
    "        wave, sr = librosa.load(os.path.join(folder, wav_file), mono=True, offset=0.75, duration=0.125)\n",
    "        mfccs = librosa.feature.mfcc(y=wave, sr=sr, n_mfcc=n_mfcc)\n",
    "        dataset[num_files,:,:] = mfccs[mfcc_start:mfcc_end, :] / 200\n",
    "        num_files += 1\n",
    "        \n",
    "        wave, sr = librosa.load(os.path.join(folder, wav_file), mono=True, offset=0.875, duration=0.125)\n",
    "        mfccs = librosa.feature.mfcc(y=wave, sr=sr, n_mfcc=n_mfcc)\n",
    "        dataset[num_files,:,:] = mfccs[mfcc_start:mfcc_end, :] / 200\n",
    "        num_files += 1\n",
    "    print('Full dataset tensor:', dataset.shape)\n",
    "    print('Mean:', np.mean(dataset))\n",
    "    print('Standard deviation:', np.std(dataset))\n",
    "    return dataset\n"
   ]
  },
  {
   "cell_type": "code",
   "execution_count": 50,
   "metadata": {},
   "outputs": [
    {
     "name": "stdout",
     "output_type": "stream",
     "text": [
      "Full dataset tensor: (32, 20, 6)\n",
      "Mean: 0.002263088\n",
      "Standard deviation: 0.28876427\n",
      "Full dataset tensor: (32, 20, 6)\n",
      "Mean: -8.529096e-05\n",
      "Standard deviation: 0.3437524\n",
      "Full dataset tensor: (32, 20, 6)\n",
      "Mean: 0.002041483\n",
      "Standard deviation: 0.32866862\n",
      "Full dataset tensor: (32, 20, 6)\n",
      "Mean: 0.0044583115\n",
      "Standard deviation: 0.36659002\n",
      "Full dataset tensor: (32, 20, 6)\n",
      "Mean: -0.007859334\n",
      "Standard deviation: 0.42994225\n",
      "Full dataset tensor: (32, 20, 6)\n",
      "Mean: -0.0023001232\n",
      "Standard deviation: 0.37406784\n",
      "Full dataset tensor: (32, 20, 6)\n",
      "Mean: -0.048689034\n",
      "Standard deviation: 0.4482279\n",
      "Datasets Shape: (224, 20, 6) (224,)\n"
     ]
    }
   ],
   "source": [
    "def load_datasets(folder, size):\n",
    "    vowels = os.listdir(folder)\n",
    "    label = 0\n",
    "    vowels_amount = len(vowels)\n",
    "    datasets = np.ndarray(shape=(vowels_amount * size * 8, mfcc_stored, n_samples), dtype=np.float32)\n",
    "    labels = np.ndarray(shape=(vowels_amount * size * 8), dtype=np.int)\n",
    "    ind_start, ind_end = 0, size *8\n",
    "    for vowel in vowels:\n",
    "        vowel_folder = os.path.join(folder, vowel)\n",
    "        vowel_dataset = load_vowel(vowel_folder, size)\n",
    "        datasets[ind_start:ind_end,:,:] = vowel_dataset\n",
    "        labels[ind_start:ind_end] = label\n",
    "        ind_start += size * 8\n",
    "        ind_end += size * 8\n",
    "        label += 1\n",
    "    print(\"Datasets Shape:\", datasets.shape, labels.shape)\n",
    "    return datasets, labels\n",
    "\n",
    "datasets, labels = load_datasets(PATH_TRAINING, 4)\n",
    "\n",
    "#Randomize dataset\n",
    "np.random.seed(133)\n",
    "permutation = np.random.permutation(labels.shape[0])\n",
    "datasets = datasets[permutation,:,:]\n",
    "labels = labels[permutation]\n",
    "\n",
    "#save dataset\n",
    "pickle_file = os.path.join(\"./\", 'vowels.pickle')\n",
    "\n",
    "try:\n",
    "  f = open(pickle_file, 'wb')\n",
    "  save = {\n",
    "    'train_dataset': datasets,\n",
    "    'train_labels': labels,\n",
    "    }\n",
    "  pickle.dump(save, f, pickle.HIGHEST_PROTOCOL)\n",
    "  f.close()\n",
    "except Exception as e:\n",
    "  print('Unable to save data to', pickle_file, ':', e)\n",
    "  raise\n",
    "\n"
   ]
  },
  {
   "cell_type": "code",
   "execution_count": 59,
   "metadata": {},
   "outputs": [
    {
     "data": {
      "text/plain": [
       "<matplotlib.colorbar.Colorbar at 0x2c412b0ce48>"
      ]
     },
     "execution_count": 59,
     "metadata": {},
     "output_type": "execute_result"
    },
    {
     "data": {
      "image/png": "[encoded data removed]",
      "text/plain": [
       "<Figure size 1080x360 with 2 Axes>"
      ]
     },
     "metadata": {},
     "output_type": "display_data"
    }
   ],
   "source": [
    "mfccs = datasets[0,:,:]\n",
    "plt.figure(figsize=(15,5))\n",
    "plt.title = \"MFCC\"\n",
    "librosa.display.specshow(mfccs, x_axis='time')\n",
    "plt.colorbar()"
   ]
  },
  {
   "cell_type": "code",
   "execution_count": 60,
   "metadata": {},
   "outputs": [
    {
     "name": "stdout",
     "output_type": "stream",
     "text": [
      "Training set (224, 120) (224, 7)\n"
     ]
    }
   ],
   "source": [
    "num_labels = 7\n",
    "\n",
    "def reformat(dataset, labels):\n",
    "    dataset = dataset.reshape((-1, mfcc_stored * n_samples)).astype(np.float32)\n",
    "    # Map 0 to [1.0, 0.0, 0.0 ...], 1 to [0.0, 1.0, 0.0 ...]\n",
    "    labels = (np.arange(num_labels) == labels[:,None]).astype(np.float32)\n",
    "    return dataset, labels\n",
    "\n",
    "train_dataset, train_labels = reformat(datasets, labels)\n",
    "print('Training set', train_dataset.shape, train_labels.shape)"
   ]
  },
  {
   "cell_type": "code",
   "execution_count": 82,
   "metadata": {},
   "outputs": [],
   "source": [
    "\n",
    "graph = tf.Graph()\n",
    "with graph.as_default():\n",
    "\n",
    "    # Input data.\n",
    "    # Load the training, validation and test data into constants that are\n",
    "    # attached to the graph.\n",
    "    tf_train_dataset = tf.placeholder(tf.float32,shape=(num_labels * 4 * 8, mfcc_stored * n_samples))\n",
    "    tf_train_labels = tf.placeholder(tf.float32, shape=(num_labels * 4 * 8, num_labels))\n",
    "\n",
    "    weights = tf.Variable(tf.truncated_normal([mfcc_stored * n_samples, num_labels]))\n",
    "    biases = tf.Variable(tf.zeros([num_labels]))\n",
    "\n",
    "    logits = tf.matmul(tf_train_dataset, weights) + biases\n",
    "    loss = tf.reduce_mean(\n",
    "    tf.nn.softmax_cross_entropy_with_logits_v2(labels=tf_train_labels, logits=logits))\n",
    "\n",
    "    optimizer = tf.train.GradientDescentOptimizer(0.05).minimize(loss)\n",
    "\n",
    "    train_prediction = tf.nn.softmax(logits)\n",
    "    \n",
    "    tf_inference_input = tf.placeholder(tf.float32,shape=(1, mfcc_stored * n_samples), name=\"input\")\n",
    "    inf_logits = tf.matmul(tf_inference_input, weights) + biases\n",
    "    inf_prediction = tf.nn.softmax(inf_logits, name=\"prediction\")"
   ]
  },
  {
   "cell_type": "code",
   "execution_count": 83,
   "metadata": {},
   "outputs": [
    {
     "name": "stdout",
     "output_type": "stream",
     "text": [
      "Initialized\n",
      "Loss at step 0: 6.245766\n",
      "Training accuracy: 21.0%\n",
      "Loss at step 100: 1.791763\n",
      "Training accuracy: 40.2%\n",
      "Loss at step 200: 1.405735\n",
      "Training accuracy: 56.7%\n",
      "Loss at step 300: 1.126850\n",
      "Training accuracy: 70.1%\n",
      "Loss at step 400: 0.919928\n",
      "Training accuracy: 88.8%\n",
      "Loss at step 500: 0.765569\n",
      "Training accuracy: 97.3%\n",
      "Loss at step 600: 0.649149\n",
      "Training accuracy: 98.2%\n",
      "Loss at step 700: 0.559868\n",
      "Training accuracy: 98.7%\n",
      "Loss at step 800: 0.490101\n",
      "Training accuracy: 99.1%\n",
      "Loss at step 900: 0.434560\n",
      "Training accuracy: 99.1%\n",
      "Loss at step 1000: 0.389569\n",
      "Training accuracy: 99.1%\n",
      "Loss at step 1100: 0.352546\n",
      "Training accuracy: 99.6%\n",
      "Loss at step 1200: 0.321645\n",
      "Training accuracy: 99.6%\n",
      "Loss at step 1300: 0.295526\n",
      "Training accuracy: 99.6%\n",
      "Loss at step 1400: 0.273198\n",
      "Training accuracy: 99.6%\n",
      "Loss at step 1500: 0.253920\n",
      "Training accuracy: 99.6%\n",
      "Loss at step 1600: 0.237123\n",
      "Training accuracy: 99.6%\n",
      "Loss at step 1700: 0.222370\n",
      "Training accuracy: 99.6%\n",
      "Loss at step 1800: 0.209318\n",
      "Training accuracy: 99.6%\n",
      "Loss at step 1900: 0.197695\n",
      "Training accuracy: 99.6%\n",
      "Loss at step 2000: 0.187282\n",
      "Training accuracy: 99.6%\n",
      "Saved checkpoint\n"
     ]
    }
   ],
   "source": [
    "num_steps = 2001\n",
    "\n",
    "def accuracy(predictions, labels):\n",
    "    return (100.0 * np.sum(np.argmax(predictions, 1) == np.argmax(labels, 1)) / predictions.shape[0])\n",
    "\n",
    "with tf.Session(graph=graph) as session:\n",
    "    tf.global_variables_initializer().run()\n",
    "    print('Initialized')\n",
    "    feed_dict = {tf_train_dataset : train_dataset, tf_train_labels : train_labels}\n",
    "    for step in range(num_steps):\n",
    "        _, l, predictions = session.run([optimizer, loss, train_prediction], feed_dict=feed_dict)\n",
    "        if (step % 100 == 0):\n",
    "            print('Loss at step %d: %f' % (step, l))\n",
    "            print('Training accuracy: %.1f%%' % accuracy(predictions, train_labels))\n",
    "    saver = tf.train.Saver()\n",
    "    last_checkpoint = './model.cptk'\n",
    "    saver.save(session, last_checkpoint)\n",
    "    tf.train.write_graph(session.graph_def, \"./\", 'raw_graph_def.pb', as_text=False)\n",
    "    print(\"Saved checkpoint\")"
   ]
  },
  {
   "cell_type": "code",
   "execution_count": 84,
   "metadata": {},
   "outputs": [
    {
     "name": "stdout",
     "output_type": "stream",
     "text": [
      "INFO:tensorflow:Restoring parameters from ./model.cptk\n",
      "INFO:tensorflow:Froze 2 variables.\n",
      "Converted 2 variables to const ops.\n"
     ]
    }
   ],
   "source": [
    "\n",
    "freeze_graph.freeze_graph(input_graph = './raw_graph_def.pb',\n",
    "              input_binary = True,\n",
    "              input_checkpoint = last_checkpoint,\n",
    "              output_node_names = \"prediction\",\n",
    "              output_graph = './model.bytes' ,\n",
    "              clear_devices = True, initializer_nodes = \"\",input_saver = \"\",\n",
    "              restore_op_name = \"save/restore_all\", filename_tensor_name = \"save/Const:0\")"
   ]
  },
  {
   "cell_type": "code",
   "execution_count": null,
   "metadata": {},
   "outputs": [],
   "source": []
  }
 ],
 "metadata": {
  "kernelspec": {
   "display_name": "Python 3",
   "language": "python",
   "name": "python3"
  },
  "language_info": {
   "codemirror_mode": {
    "name": "ipython",
    "version": 3
   },
   "file_extension": ".py",
   "mimetype": "text/x-python",
   "name": "python",
   "nbconvert_exporter": "python",
   "pygments_lexer": "ipython3",
   "version": "3.5.5"
  }
 },
 "nbformat": 4,
 "nbformat_minor": 2
}
