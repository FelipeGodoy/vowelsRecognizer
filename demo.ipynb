{
 "cells": [
  {
   "cell_type": "code",
   "execution_count": 1,
   "metadata": {},
   "outputs": [
    {
     "name": "stdout",
     "output_type": "stream",
     "text": [
      "Populating the interactive namespace from numpy and matplotlib\n"
     ]
    }
   ],
   "source": [
    "%pylab inline"
   ]
  },
  {
   "cell_type": "code",
   "execution_count": 2,
   "metadata": {},
   "outputs": [],
   "source": [
    "import os\n",
    "import librosa\n",
    "import librosa.display\n",
    "import scipy.constants as const\n",
    "import scipy\n",
    "import IPython.display\n",
    "from scipy.io import wavfile\n",
    "from IPython.core.display import HTML\n",
    "from __future__ import division\n",
    "from tensorflow.python.platform import gfile\n",
    "from __future__ import print_function\n",
    "import numpy as np\n",
    "import tensorflow as tf\n",
    "from six.moves import cPickle as pickle\n",
    "from six.moves import range\n",
    "from tensorflow.python.tools import freeze_graph\n",
    "import matplotlib.pyplot as plt"
   ]
  },
  {
   "cell_type": "code",
   "execution_count": 3,
   "metadata": {},
   "outputs": [],
   "source": [
    "PATH_TEST = \"./dataset/test\"\n",
    "PATH_TRAINING = \"./dataset/train\"\n",
    "n_mfcc = 20\n",
    "mfcc_start = 0\n",
    "mfcc_end = 20\n",
    "mfcc_stored = mfcc_end - mfcc_start\n",
    "n_samples = 6\n",
    "\n",
    "def load_vowel(folder, size=4):\n",
    "    wav_files = os.listdir(folder)[0:size]\n",
    "    dataset = np.ndarray(shape=(len(wav_files) * 8, mfcc_stored, n_samples), dtype=np.float32)\n",
    "    num_files = 0\n",
    "    for wav_file in wav_files:\n",
    "        wave, sr = librosa.load(os.path.join(folder, wav_file), mono=True, duration=0.125)\n",
    "        mfccs = librosa.feature.mfcc(y=wave, sr=sr, n_mfcc=n_mfcc)\n",
    "        dataset[num_files,:,:] = mfccs[mfcc_start:mfcc_end, :] / 200\n",
    "        num_files += 1\n",
    "        \n",
    "        wave, sr = librosa.load(os.path.join(folder, wav_file), mono=True, offset=0.125, duration=0.125)\n",
    "        mfccs = librosa.feature.mfcc(y=wave, sr=sr, n_mfcc=n_mfcc)\n",
    "        dataset[num_files,:,:] = mfccs[mfcc_start:mfcc_end, :] / 200\n",
    "        num_files += 1\n",
    "        \n",
    "        wave, sr = librosa.load(os.path.join(folder, wav_file), mono=True, offset=0.25, duration=0.125)\n",
    "        mfccs = librosa.feature.mfcc(y=wave, sr=sr, n_mfcc=n_mfcc)\n",
    "        dataset[num_files,:,:] = mfccs[mfcc_start:mfcc_end, :] / 200\n",
    "        num_files += 1\n",
    "        \n",
    "        wave, sr = librosa.load(os.path.join(folder, wav_file), mono=True, offset=0.375, duration=0.125)\n",
    "        mfccs = librosa.feature.mfcc(y=wave, sr=sr, n_mfcc=n_mfcc)\n",
    "        dataset[num_files,:,:] = mfccs[mfcc_start:mfcc_end, :] / 200\n",
    "        num_files += 1\n",
    "        \n",
    "        wave, sr = librosa.load(os.path.join(folder, wav_file), mono=True, offset=0.5, duration=0.125)\n",
    "        mfccs = librosa.feature.mfcc(y=wave, sr=sr, n_mfcc=n_mfcc)\n",
    "        dataset[num_files,:,:] = mfccs[mfcc_start:mfcc_end, :] / 200\n",
    "        num_files += 1\n",
    "        \n",
    "        wave, sr = librosa.load(os.path.join(folder, wav_file), mono=True, offset=0.625, duration=0.125)\n",
    "        mfccs = librosa.feature.mfcc(y=wave, sr=sr, n_mfcc=n_mfcc)\n",
    "        dataset[num_files,:,:] = mfccs[mfcc_start:mfcc_end, :] / 200\n",
    "        num_files += 1\n",
    "        \n",
    "        wave, sr = librosa.load(os.path.join(folder, wav_file), mono=True, offset=0.75, duration=0.125)\n",
    "        mfccs = librosa.feature.mfcc(y=wave, sr=sr, n_mfcc=n_mfcc)\n",
    "        dataset[num_files,:,:] = mfccs[mfcc_start:mfcc_end, :] / 200\n",
    "        num_files += 1\n",
    "        \n",
    "        wave, sr = librosa.load(os.path.join(folder, wav_file), mono=True, offset=0.875, duration=0.125)\n",
    "        mfccs = librosa.feature.mfcc(y=wave, sr=sr, n_mfcc=n_mfcc)\n",
    "        dataset[num_files,:,:] = mfccs[mfcc_start:mfcc_end, :] / 200\n",
    "        num_files += 1\n",
    "    print('Full dataset tensor:', dataset.shape)\n",
    "    print('Mean:', np.mean(dataset))\n",
    "    print('Standard deviation:', np.std(dataset))\n",
    "    return dataset\n"
   ]
  },
  {
   "cell_type": "code",
   "execution_count": 4,
   "metadata": {},
   "outputs": [],
   "source": [
    "def load_wave_datasets(folder, size):\n",
    "    vowels = os.listdir(folder)\n",
    "    label = 0\n",
    "    vowels_amount = len(vowels)\n",
    "    datasets = np.ndarray(shape=(vowels_amount * size * 8, mfcc_stored, n_samples), dtype=np.float32)\n",
    "    labels = np.ndarray(shape=(vowels_amount * size * 8), dtype=np.int)\n",
    "    ind_start, ind_end = 0, size *8\n",
    "    for vowel in vowels:\n",
    "        vowel_folder = os.path.join(folder, vowel)\n",
    "        vowel_dataset = load_vowel(vowel_folder, size)\n",
    "        datasets[ind_start:ind_end,:,:] = vowel_dataset\n",
    "        labels[ind_start:ind_end] = label\n",
    "        ind_start += size * 8\n",
    "        ind_end += size * 8\n",
    "        label += 1\n",
    "    print(\"Datasets Shape:\", datasets.shape, labels.shape)\n",
    "    return datasets, labels\n"
   ]
  },
  {
   "cell_type": "code",
   "execution_count": 5,
   "metadata": {},
   "outputs": [],
   "source": [
    "def load_label_dataset(file, dataset_size):\n",
    "    dataset = np.ndarray(shape=(dataset_size, 25, 13), dtype=np.float32)\n",
    "    with open(file) as f:\n",
    "        ind = 0;\n",
    "        for line in f:\n",
    "            if(ind >= dataset_size):\n",
    "                break\n",
    "            line_arr = np.asarray(eval(line), dtype=np.float32)\n",
    "            dataset[ind,:,:] = line_arr\n",
    "            ind+=1\n",
    "    return dataset\n",
    "\n",
    "def load_datasets(folder, dataset_size):\n",
    "    vowels = os.listdir(folder)\n",
    "    vowels_amount = len(vowels)\n",
    "    label = 0\n",
    "    datasets = np.ndarray(shape=(vowels_amount * dataset_size, 25, 13), dtype=np.float32)\n",
    "    labels = np.ndarray(shape=(vowels_amount * dataset_size), dtype=np.int)\n",
    "    ind_start = 0\n",
    "    ind_end = dataset_size\n",
    "    for vowel in vowels:\n",
    "        vowel_file = os.path.join(folder, vowel)\n",
    "        vowel_dataset = load_label_dataset(vowel_file, dataset_size)\n",
    "        datasets[ind_start:ind_end,:,:] = vowel_dataset\n",
    "        labels[ind_start:ind_end] = label\n",
    "        ind_start += dataset_size\n",
    "        ind_end += dataset_size\n",
    "        label += 1\n",
    "    return datasets, labels\n",
    "datasets, labels = load_datasets(PATH_TRAINING, 36)\n",
    "test_datasets, test_labels = load_datasets(PATH_TEST, 4)\n",
    "\n",
    "permutation = np.random.permutation(labels.shape[0])\n",
    "datasets = datasets[permutation,:,:]\n",
    "labels = labels[permutation]"
   ]
  },
  {
   "cell_type": "code",
   "execution_count": 19,
   "metadata": {},
   "outputs": [
    {
     "data": {
      "text/plain": [
       "(6, 13)"
      ]
     },
     "execution_count": 19,
     "metadata": {},
     "output_type": "execute_result"
    },
    {
     "data": {
      "image/png": "[encoded data removed]",
      "text/plain": [
       "<Figure size 1080x360 with 2 Axes>"
      ]
     },
     "metadata": {},
     "output_type": "display_data"
    }
   ],
   "source": [
    "mfccs = datasets[7,:,:]\n",
    "plt.figure(figsize=(15,5))\n",
    "plt.title = \"MFCC\"\n",
    "\n",
    "other = np.asarray([[-0.2329923, -0.3590909, -0.2369562, -0.2604672, 0.842925, 1.089494, 0.3511549, 0.1126428, 0.01449018, 0.2433557, 0.3314657, 1.060868, 0.6938599],[-0.3908163, -0.4822866, -0.415224, -0.3859359, -0.4824052, -0.4932116, -0.3946974, -0.3777816, -0.2860443, -0.3727128, -0.3740316, -0.4854029, -0.4959383],[-0.3317419, -0.3003647, -0.3366023, -0.3382937, -0.4932948, -0.5023192, -0.4116347, -0.3663481, -0.3424717, -0.3777007, -0.3983325, -0.4964407, -0.5056154],[-0.4064817, -0.3459327, -0.3906244, -0.3989318, -0.5048913, -0.5121234, -0.4361018, -0.3991171, -0.4277389, -0.4127695, -0.4332721, -0.5077406, -0.5149552],[-0.428248, -0.3603668, -0.3963854, -0.4094014, -0.5142543, -0.5200668, -0.4588054, -0.4350089, -0.4558163, -0.446616, -0.462816, -0.5160062, -0.5209382],[-0.4543934, -0.4073784, -0.447341, -0.4542996, -0.5222021, -0.5268316, -0.4835934, -0.4682081, -0.4954573, -0.4853754, -0.4893453, -0.5246474, -0.5268012]], dtype=np.float32)\n",
    "\n",
    "librosa.display.specshow(other, x_axis='time')\n",
    "plt.colorbar()\n",
    "other.shape"
   ]
  },
  {
   "cell_type": "code",
   "execution_count": 7,
   "metadata": {},
   "outputs": [
    {
     "name": "stdout",
     "output_type": "stream",
     "text": [
      "Training set (216, 325) (216, 6)\n"
     ]
    }
   ],
   "source": [
    "num_labels = 6\n",
    "\n",
    "def reformat(dataset, labels):\n",
    "    dataset = dataset.reshape((-1, 25 * 13)).astype(np.float32)\n",
    "    # Map 0 to [1.0, 0.0, 0.0 ...], 1 to [0.0, 1.0, 0.0 ...]\n",
    "    labels = (np.arange(num_labels) == labels[:,None]).astype(np.float32)\n",
    "    return dataset, labels\n",
    "\n",
    "train_dataset, train_labels = reformat(datasets, labels)\n",
    "test_dataset, test_labels = reformat(test_datasets, test_labels)\n",
    "print('Training set', train_dataset.shape, train_labels.shape)"
   ]
  },
  {
   "cell_type": "code",
   "execution_count": 8,
   "metadata": {},
   "outputs": [],
   "source": [
    "num_labels = 6\n",
    "graph = tf.Graph()\n",
    "with graph.as_default():\n",
    "\n",
    "    tf_train_dataset = tf.placeholder(tf.float32,shape=(216, 325))\n",
    "    tf_train_labels = tf.placeholder(tf.float32, shape=(216, num_labels))\n",
    "\n",
    "    weights = tf.Variable(tf.truncated_normal([325, num_labels]))\n",
    "    biases = tf.Variable(tf.zeros([num_labels]))\n",
    "\n",
    "    logits = tf.matmul(tf_train_dataset, weights) + biases\n",
    "    loss = tf.reduce_mean(\n",
    "    tf.nn.softmax_cross_entropy_with_logits_v2(labels=tf_train_labels, logits=logits))\n",
    "\n",
    "    optimizer = tf.train.AdamOptimizer(0.005).minimize(loss)\n",
    "\n",
    "    train_prediction = tf.nn.softmax(logits)\n",
    "    \n",
    "    tf_inference_input = tf.placeholder(tf.float32,shape=(1, 325), name=\"input\")\n",
    "    inf_logits = tf.matmul(tf_inference_input, weights) + biases\n",
    "    inf_prediction = tf.nn.softmax(inf_logits, name=\"prediction\")\n",
    "    \n",
    "    tf_test_input = tf.placeholder(tf.float32,shape=(24, 325))\n",
    "    test_logits = tf.matmul(tf_test_input, weights) + biases\n",
    "    test_prediction = tf.nn.softmax(test_logits)"
   ]
  },
  {
   "cell_type": "code",
   "execution_count": 9,
   "metadata": {},
   "outputs": [
    {
     "name": "stdout",
     "output_type": "stream",
     "text": [
      "Initialized\n",
      "Loss at step 0: 14.356624\n",
      "Training accuracy: 14.4%\n",
      "Test accuracy: 8.3%\n",
      "Loss at step 100: 1.454201\n",
      "Training accuracy: 43.5%\n",
      "Test accuracy: 41.7%\n",
      "Loss at step 200: 0.959681\n",
      "Training accuracy: 61.1%\n",
      "Test accuracy: 54.2%\n",
      "Loss at step 300: 0.725877\n",
      "Training accuracy: 70.8%\n",
      "Test accuracy: 62.5%\n",
      "Loss at step 400: 0.580987\n",
      "Training accuracy: 79.6%\n",
      "Test accuracy: 62.5%\n",
      "Loss at step 500: 0.484219\n",
      "Training accuracy: 85.6%\n",
      "Test accuracy: 70.8%\n",
      "Loss at step 600: 0.416679\n",
      "Training accuracy: 88.4%\n",
      "Test accuracy: 79.2%\n",
      "Loss at step 700: 0.366356\n",
      "Training accuracy: 90.7%\n",
      "Test accuracy: 83.3%\n",
      "Loss at step 800: 0.326743\n",
      "Training accuracy: 90.7%\n",
      "Test accuracy: 83.3%\n",
      "Loss at step 900: 0.294325\n",
      "Training accuracy: 92.1%\n",
      "Test accuracy: 87.5%\n",
      "Loss at step 1000: 0.267018\n",
      "Training accuracy: 94.0%\n",
      "Test accuracy: 91.7%\n",
      "Loss at step 1100: 0.243511\n",
      "Training accuracy: 94.4%\n",
      "Test accuracy: 91.7%\n",
      "Loss at step 1200: 0.222950\n",
      "Training accuracy: 94.9%\n",
      "Test accuracy: 91.7%\n",
      "Loss at step 1300: 0.204764\n",
      "Training accuracy: 95.4%\n",
      "Test accuracy: 95.8%\n",
      "Loss at step 1400: 0.188560\n",
      "Training accuracy: 95.4%\n",
      "Test accuracy: 95.8%\n",
      "Loss at step 1500: 0.174055\n",
      "Training accuracy: 95.8%\n",
      "Test accuracy: 95.8%\n",
      "Loss at step 1600: 0.161017\n",
      "Training accuracy: 96.3%\n",
      "Test accuracy: 95.8%\n",
      "Loss at step 1700: 0.149250\n",
      "Training accuracy: 97.2%\n",
      "Test accuracy: 95.8%\n",
      "Loss at step 1800: 0.138583\n",
      "Training accuracy: 97.7%\n",
      "Test accuracy: 95.8%\n",
      "Loss at step 1900: 0.128874\n",
      "Training accuracy: 98.6%\n",
      "Test accuracy: 100.0%\n",
      "Loss at step 2000: 0.120004\n",
      "Training accuracy: 99.5%\n",
      "Test accuracy: 100.0%\n",
      "Saved checkpoint\n"
     ]
    }
   ],
   "source": [
    "num_steps = 2001\n",
    "\n",
    "def accuracy(predictions, labels):\n",
    "    return (100.0 * np.sum(np.argmax(predictions, 1) == np.argmax(labels, 1)) / predictions.shape[0])\n",
    "\n",
    "with tf.Session(graph=graph) as session:\n",
    "    tf.global_variables_initializer().run()\n",
    "    print('Initialized')\n",
    "    feed_dict = {tf_train_dataset : train_dataset, tf_train_labels : train_labels}\n",
    "    for step in range(num_steps):\n",
    "        _, l, predictions = session.run([optimizer, loss, train_prediction], feed_dict=feed_dict)\n",
    "        if (step % 100 == 0):\n",
    "            print('Loss at step %d: %f' % (step, l))\n",
    "            print('Training accuracy: %.1f%%' % accuracy(predictions, train_labels))\n",
    "            test_predictions = session.run(test_prediction, feed_dict={tf_test_input: test_dataset})\n",
    "            print('Test accuracy: %.1f%%' % accuracy(test_predictions, test_labels))\n",
    "    saver = tf.train.Saver()\n",
    "    last_checkpoint = './model.cptk'\n",
    "    saver.save(session, last_checkpoint)\n",
    "    tf.train.write_graph(session.graph_def, \"./\", 'raw_graph_def.pb', as_text=False)\n",
    "    print(\"Saved checkpoint\")"
   ]
  },
  {
   "cell_type": "code",
   "execution_count": 10,
   "metadata": {},
   "outputs": [
    {
     "name": "stdout",
     "output_type": "stream",
     "text": [
      "INFO:tensorflow:Restoring parameters from ./model.cptk\n",
      "INFO:tensorflow:Froze 2 variables.\n",
      "Converted 2 variables to const ops.\n"
     ]
    }
   ],
   "source": [
    "\n",
    "freeze_graph.freeze_graph(input_graph = './raw_graph_def.pb',\n",
    "              input_binary = True,\n",
    "              input_checkpoint = last_checkpoint,\n",
    "              output_node_names = \"prediction\",\n",
    "              output_graph = './model.bytes' ,\n",
    "              clear_devices = True, initializer_nodes = \"\",input_saver = \"\",\n",
    "              restore_op_name = \"save/restore_all\", filename_tensor_name = \"save/Const:0\")"
   ]
  },
  {
   "cell_type": "code",
   "execution_count": null,
   "metadata": {},
   "outputs": [],
   "source": []
  }
 ],
 "metadata": {
  "kernelspec": {
   "display_name": "Python 3",
   "language": "python",
   "name": "python3"
  },
  "language_info": {
   "codemirror_mode": {
    "name": "ipython",
    "version": 3
   },
   "file_extension": ".py",
   "mimetype": "text/x-python",
   "name": "python",
   "nbconvert_exporter": "python",
   "pygments_lexer": "ipython3",
   "version": "3.5.5"
  }
 },
 "nbformat": 4,
 "nbformat_minor": 2
}
